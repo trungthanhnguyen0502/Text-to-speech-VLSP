{
 "cells": [
  {
   "cell_type": "code",
   "execution_count": 15,
   "metadata": {},
   "outputs": [],
   "source": [
    "import IPython.display as ipd\n",
    "import sys\n",
    "\n",
    "sys.path.append('tacotron2')\n",
    "sys.path.append('tacotron2/waveglow/')\n",
    "import numpy as np\n",
    "import torch\n",
    "\n",
    "from hparams import hparams\n",
    "from model import Tacotron2\n",
    "from layers import TacotronSTFT, STFT\n",
    "from helpers import to_speech, load_tacotron, load_waveglow\n",
    "from random import choice, choices\n",
    "import os\n",
    "from scipy.io.wavfile import write\n",
    "import warnings\n",
    "warnings.filterwarnings(\"ignore\")"
   ]
  },
  {
   "cell_type": "markdown",
   "metadata": {},
   "source": [
    "### Load text to speech model"
   ]
  },
  {
   "cell_type": "code",
   "execution_count": 10,
   "metadata": {},
   "outputs": [
    {
     "name": "stdout",
     "output_type": "stream",
     "text": [
      "** loading model Okie !!! \n"
     ]
    }
   ],
   "source": [
    "hparams, tacotron = load_tacotron()\n",
    "waveglow, denoiser = load_waveglow(hparams)\n",
    "os.makedirs(hparams.audio_outdir, exist_ok=True)\n",
    "print(\"** loading model Okie !!! \")"
   ]
  },
  {
   "cell_type": "markdown",
   "metadata": {},
   "source": [
    "### Run inference and save to file"
   ]
  },
  {
   "cell_type": "code",
   "execution_count": 17,
   "metadata": {
    "scrolled": true
   },
   "outputs": [
    {
     "name": "stdout",
     "output_type": "stream",
     "text": [
      "['không thể biết được nó cảm thấy gì trừ khi để ý đến sắc mặt nó', '']\n",
      "không thể biết được nó cảm thấy gì trừ khi để ý đến sắc mặt nó\n",
      "['rồi ông cụ đứng đó tựa vào gốc cây', '']\n",
      "rồi ông cụ đứng đó tựa vào gốc cây\n",
      "['anh đã quên trong những ba lô kia có gì', '']\n",
      "anh đã quên trong những ba lô kia có gì\n"
     ]
    }
   ],
   "source": [
    "test_data = []\n",
    "os.makedirs(hparams.audio_outdir, exist_ok=True)\n",
    "\n",
    "with open('test_data.txt', 'r') as f:\n",
    "    for line in f.readlines():\n",
    "        test_data.append(line.strip())\n",
    "        \n",
    "for i, text in enumerate(test_data):\n",
    "    audio = to_speech(text, tacotron, waveglow, denoiser, hparams)\n",
    "    filename = \"{}/{}.wav\".format(hparams.audio_outdir, i)\n",
    "    write(filename, rate=22050, data=audio)"
   ]
  },
  {
   "cell_type": "code",
   "execution_count": null,
   "metadata": {},
   "outputs": [],
   "source": []
  }
 ],
 "metadata": {
  "kernelspec": {
   "display_name": "detectron_env",
   "language": "python",
   "name": "detectron_env"
  },
  "language_info": {
   "codemirror_mode": {
    "name": "ipython",
    "version": 3
   },
   "file_extension": ".py",
   "mimetype": "text/x-python",
   "name": "python",
   "nbconvert_exporter": "python",
   "pygments_lexer": "ipython3",
   "version": "3.7.7"
  }
 },
 "nbformat": 4,
 "nbformat_minor": 4
}
